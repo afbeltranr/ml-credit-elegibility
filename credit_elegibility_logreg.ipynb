{
 "cells": [
  {
   "cell_type": "markdown",
   "metadata": {},
   "source": [
    "# Client elegibility prediction using logistic regression\n",
    "\n"
   ]
  },
  {
   "cell_type": "code",
   "execution_count": 1,
   "metadata": {},
   "outputs": [
    {
     "name": "stdout",
     "output_type": "stream",
     "text": [
      "   Client_ID  Years_as_Client  Credit_Score  Num_Products  Annual_Income  \\\n",
      "0          1                7           327             5          91642   \n",
      "1          2               20           639             1         106539   \n",
      "2          3               29           630             5          51732   \n",
      "3          4               15           805             5         121362   \n",
      "4          5               11           647             5          60354   \n",
      "\n",
      "   Loan_Amount  Loan_Duration_Years  Missed_Payments  Credit_Eligibility  \n",
      "0        81719                   10                3                   1  \n",
      "1        72774                   18                4                   1  \n",
      "2         7090                    8                4                   1  \n",
      "3        12637                    8                5                   0  \n",
      "4        23415                    7                5                   0  \n"
     ]
    }
   ],
   "source": [
    "import pandas as pd\n",
    "from sklearn.model_selection import train_test_split\n",
    "from sklearn.linear_model import LogisticRegression\n",
    "from sklearn.metrics import accuracy_score, confusion_matrix, roc_auc_score\n",
    "import numpy as np\n",
    "\n",
    "\n",
    "# Set the random seed for reproducibility\n",
    "np.random.seed(42)\n",
    "\n",
    "# Number of clients\n",
    "num_clients = 208\n",
    "\n",
    "# Generate synthetic data\n",
    "data = {\n",
    "    'Client_ID': range(1, num_clients + 1),\n",
    "    'Years_as_Client': np.random.randint(1, 30, num_clients),  # Between 1 and 30 years\n",
    "    'Credit_Score': np.random.randint(300, 851, num_clients),  # Between 300 and 850\n",
    "    'Num_Products': np.random.randint(1, 6, num_clients),  # Between 1 and 5 products\n",
    "    'Annual_Income': np.random.randint(30000, 150001, num_clients),  # Between $30,000 and $150,000\n",
    "    'Loan_Amount': np.random.randint(1000, 100001, num_clients),  # Between $1,000 and $100,000\n",
    "    'Loan_Duration_Years': np.random.randint(1, 20, num_clients),  # Loan duration between 1 and 20 years\n",
    "    'Missed_Payments': np.random.randint(0, 6, num_clients),  # Between 0 and 5 missed payments\n",
    "    'Credit_Eligibility': np.random.randint(0, 2, num_clients)  # 0 or 1 for eligibility\n",
    "}\n",
    "\n",
    "# Create a DataFrame\n",
    "df = pd.DataFrame(data)\n",
    "\n",
    "\n",
    "# Display the first few rows of the dataset\n",
    "print(df.head())\n",
    "\n",
    "# Save the dataset to a CSV file\n",
    "df.to_csv('client_credit_data.csv', index=False)"
   ]
  }
 ],
 "metadata": {
  "kernelspec": {
   "display_name": "Python 3",
   "language": "python",
   "name": "python3"
  },
  "language_info": {
   "codemirror_mode": {
    "name": "ipython",
    "version": 3
   },
   "file_extension": ".py",
   "mimetype": "text/x-python",
   "name": "python",
   "nbconvert_exporter": "python",
   "pygments_lexer": "ipython3",
   "version": "3.12.1"
  }
 },
 "nbformat": 4,
 "nbformat_minor": 2
}
